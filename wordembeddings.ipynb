{
 "cells": [
  {
   "cell_type": "markdown",
   "metadata": {
    "id": "UjJn2R-Ft8Gi"
   },
   "source": [
    "For this homework, make sure that you format your notbook nicely and cite all sources in the appropriate sections. Programmatically generate or embed any figures or graphs that you need.\n",
    "\n",
    "Names: __Zhen Guo and Vikram Chowdhary__"
   ]
  },
  {
   "cell_type": "markdown",
   "metadata": {
    "id": "0lqXxpdFiZcF"
   },
   "source": [
    "## DO THIS"
   ]
  },
  {
   "cell_type": "markdown",
   "metadata": {
    "id": "lzwlPkjgt8Gq"
   },
   "source": [
    "Step 1: Train your own word embeddings\n",
    "--------------------------------\n",
    "\n",
    "We chose to use the provided Spooky Author dataset. It contains text from works of fiction written by \"spooky authors\" of the public domain - Edgar Allan poe, HP Lovecraft, and Mary Shelley. The features in this dataset are:\n",
    "- id - a unique identifier for each sentence\n",
    "- text - some text written by one of the authors\n",
    "- author - the author of the sentence (EAP: Edgar Allan Poe, HPL: HP Lovecraft; MWS: Mary Wollstonecraft Shelley)\n",
    "The training portion of this dataset has 19579 texts, and the testing portion has 8392\n",
    "\n",
    "Describe what data set you have chosen to compare and contrast with the your chosen provided dataset. Make sure to describe where it comes from and it's general properties.\n",
    "\n",
    "The dataset we selected was found on Kaggle, and consists of 50,000 IMDB reviews. https://www.kaggle.com/datasets/lakshmi25npathi/imdb-dataset-of-50k-movie-reviews"
   ]
  },
  {
   "cell_type": "code",
   "execution_count": 17,
   "metadata": {
    "ExecuteTime": {
     "end_time": "2020-10-24T03:27:00.340250Z",
     "start_time": "2020-10-24T03:26:59.570883Z"
    },
    "colab": {
     "base_uri": "https://localhost:8080/"
    },
    "id": "uQLg8dGdt8Gr",
    "outputId": "77c6811a-38bb-4df9-dffc-7afc239c7e0a"
   },
   "outputs": [],
   "source": [
    "# import your libraries here\n",
    "import pandas as pd\n",
    "import nltk\n",
    "import re\n",
    "from nltk.stem import SnowballStemmer\n",
    "from nltk.stem.wordnet import WordNetLemmatizer\n",
    "# !pip install gensim"
   ]
  },
  {
   "cell_type": "markdown",
   "metadata": {},
   "source": [
    "### 0) Pre-processing and text-normalization\n",
    "\n",
    "The following pre-processing steps are inspired from https://towardsdatascience.com/text-normalization-for-natural-language-processing-nlp-70a314bfa646."
   ]
  },
  {
   "cell_type": "markdown",
   "metadata": {},
   "source": [
    "We also pre-processed data so that it begins with < s> tokens (and ends with < /s> tokens). Inspired from answer: https://stackoverflow.com/questions/37605710/tokenize-a-paragraph-into-sentence-and-then-into-words-in-nltk"
   ]
  },
  {
   "cell_type": "code",
   "execution_count": 14,
   "metadata": {},
   "outputs": [],
   "source": [
    "# normalize text to regular expression\n",
    "# code from https://gist.github.com/yamanahlawat/4443c6e9e65e74829dbb6b47dd81764a\n",
    "\n",
    "replacement_patterns = [\n",
    "  (r'won\\'t', 'will not'),\n",
    "  (r'can\\'t', 'cannot'),\n",
    "  (r'i\\'m', 'i am'),\n",
    "  (r'ain\\'t', 'is not'),\n",
    "  (r'(\\w+)\\'ll', '\\g<1> will'),\n",
    "  (r'(\\w+)n\\'t', '\\g<1> not'),\n",
    "  (r'(\\w+)\\'ve', '\\g<1> have'),\n",
    "  (r'(\\w+)\\'s', '\\g<1> is'),\n",
    "  (r'(\\w+)\\'re', '\\g<1> are'),\n",
    "  (r'(\\w+)\\'d', '\\g<1> would')\n",
    "]\n",
    "\n",
    "patterns = [(re.compile(regex), repl) for (regex, repl) in replacement_patterns]\n",
    "\n",
    "def replace(text):\n",
    "    s = text\n",
    "    for (pattern, repl) in patterns:\n",
    "        s = re.sub(pattern, repl, s)\n",
    "    return s"
   ]
  },
  {
   "cell_type": "code",
   "execution_count": 31,
   "metadata": {},
   "outputs": [],
   "source": [
    "def process_text(text):\n",
    "    \"\"\"\n",
    "    Process the paragram so it is tokenized into sentences, \n",
    "    each sentence start with <s> end withh </s>, words are tokenized and normalized for each sentence.\n",
    "    \"\"\"\n",
    "    sent_text = nltk.sent_tokenize(text) # this gives us a list of sentences\n",
    "    \n",
    "    # now loop over each sentence and tokenize it separately\n",
    "    s = []\n",
    "    for sentence in sent_text:\n",
    "        # regualr expression\n",
    "        sentence = replace(sentence)\n",
    "        # tokenize sentence\n",
    "        tokenized_text = nltk.word_tokenize(sentence)\n",
    "\n",
    "        # lematizing and stemming words\n",
    "        ps = SnowballStemmer(\"english\")\n",
    "        lemmatizer = WordNetLemmatizer()\n",
    "        \n",
    "        new_sent = ['<s>']\n",
    "        for word in tokenized_text:\n",
    "            # now remove punctuation\n",
    "            if not word.isalpha():\n",
    "                continue           \n",
    "            # stemming:\n",
    "            word = ps.stem(word)\n",
    "            # lemmatizing\n",
    "            word = lemmatizer.lemmatize(word)\n",
    "            new_sent.append(word)\n",
    "\n",
    "        # add begin and end\n",
    "        new_sent.append('</s>')\n",
    "        s = s + new_sent\n",
    "    return s\n",
    "\n",
    "def process_data(series):\n",
    "    # returns text in this format:\n",
    "    # data = [['this', 'is', 'the', 'first', 'sentence', 'for', 'word2vec'],\n",
    "    # \t\t\t['this', 'is', 'the', 'second', 'sentence'],\n",
    "    # \t\t\t['yet', 'another', 'sentence'],\n",
    "    # \t\t\t['one', 'more', 'sentence'],\n",
    "    # \t\t\t['and', 'the', 'final', 'sentence']]\n",
    "    sentences = []\n",
    "    for _,row in series.items():\n",
    "        sentences.append(process_text(row))\n",
    "    \n",
    "    return sentences"
   ]
  },
  {
   "cell_type": "code",
   "execution_count": 32,
   "metadata": {},
   "outputs": [],
   "source": [
    "# Read the file and prepare the training data \n",
    "# so that it is in the following format\n",
    "spooky_authors_train = pd.read_csv('./spooky-author-identification/train.csv')\n",
    "spooky_authors_test = pd.read_csv('./spooky-author-identification/test.csv')\n",
    "df_imdb = pd.read_csv('IMDB_dataset.csv')\n",
    "\n",
    "given_data_train = process_data(spooky_authors_train['text'])\n",
    "given_data_test = process_data(spooky_authors_test['text'])\n",
    "our_data = process_data(df_imdb['review'])"
   ]
  },
  {
   "cell_type": "code",
   "execution_count": 40,
   "metadata": {},
   "outputs": [],
   "source": [
    "# save the variables in case leter use\n",
    "# should be comment out before submission\n",
    "import pickle\n",
    "\n",
    "with open('our_data.pickle', 'wb') as f:\n",
    "    pickle.dump(our_data, f)"
   ]
  },
  {
   "cell_type": "markdown",
   "metadata": {
    "id": "mj0A0mCkt8Gt"
   },
   "source": [
    "### a) Train embeddings on GIVEN dataset"
   ]
  },
  {
   "cell_type": "code",
   "execution_count": 34,
   "metadata": {
    "ExecuteTime": {
     "end_time": "2020-10-24T04:39:38.482701Z",
     "start_time": "2020-10-24T04:39:28.044970Z"
    },
    "id": "Od_L53GEt8Gv"
   },
   "outputs": [],
   "source": [
    "from gensim.models import Word2Vec\n",
    "\n",
    "# The dimension of word embedding. \n",
    "# This variable will be used throughout the program\n",
    "# you may vary this as you desire\n",
    "EMBEDDINGS_SIZE = 200\n",
    "\n",
    "# Train the Word2Vec model from Gensim. \n",
    "# Below are the hyperparameters that are most relevant. \n",
    "# But feel free to explore other \n",
    "# options too:\n",
    "# sg = 1\n",
    "# window = 5\n",
    "# size = EMBEDDINGS_SIZE\n",
    "# min_count = 1\n",
    "# train model on spooky authors training data\n",
    "model = Word2Vec(sentences = given_data_train, \n",
    "                 vector_size = EMBEDDINGS_SIZE,\n",
    "                 sg = 1, \n",
    "                 window = 5,  \n",
    "                 min_count = 1)"
   ]
  },
  {
   "cell_type": "code",
   "execution_count": 35,
   "metadata": {
    "ExecuteTime": {
     "end_time": "2020-10-24T04:39:43.448249Z",
     "start_time": "2020-10-24T04:39:43.444835Z"
    },
    "id": "xrt52ahnt8Gw",
    "outputId": "9cc68b79-139f-4996-c736-cb3597e8d16e"
   },
   "outputs": [
    {
     "name": "stdout",
     "output_type": "stream",
     "text": [
      "Vocab size 14996\n"
     ]
    }
   ],
   "source": [
    "# if you save your Word2Vec as the variable model, this will \n",
    "# print out the vocabulary size\n",
    "# THIS DOES NOT WORK?\n",
    "# print('Vocab size {}'.format(len(model.wv.vocab)))\n",
    "# https://stackoverflow.com/questions/35596031/gensim-word2vec-find-number-of-words-in-vocabulary\n",
    "print('Vocab size {}'.format(len(model.wv)))"
   ]
  },
  {
   "cell_type": "code",
   "execution_count": 36,
   "metadata": {
    "ExecuteTime": {
     "end_time": "2020-10-24T04:39:48.730304Z",
     "start_time": "2020-10-24T04:39:45.451960Z"
    },
    "id": "UUanXgQLt8Gy"
   },
   "outputs": [],
   "source": [
    "# You can save file in txt format, then load later if you wish.\n",
    "model.wv.save_word2vec_format('embeddings.txt', binary=False)"
   ]
  },
  {
   "cell_type": "markdown",
   "metadata": {
    "id": "uGMUTMcmt8G0"
   },
   "source": [
    "### b) Train embedding on YOUR dataset"
   ]
  },
  {
   "cell_type": "code",
   "execution_count": 37,
   "metadata": {
    "id": "sN0KvmUKt8G0"
   },
   "outputs": [],
   "source": [
    "# then do a second data set\n",
    "# given data is roughly 70/30 train/test\n",
    "our_data_train = our_data[:35000]\n",
    "our_data_test = our_data[35000:]\n",
    "our_model = Word2Vec(sentences = our_data_train, \n",
    "                     vector_size = EMBEDDINGS_SIZE,\n",
    "                     sg = 1, \n",
    "                     window = 5,  \n",
    "                     min_count = 1)"
   ]
  },
  {
   "cell_type": "code",
   "execution_count": 38,
   "metadata": {
    "id": "eYl9sTbniZcL",
    "outputId": "08c29af9-2445-4241-9f82-1226b1f200ab"
   },
   "outputs": [
    {
     "name": "stdout",
     "output_type": "stream",
     "text": [
      "Vocab size 56862\n"
     ]
    }
   ],
   "source": [
    "print('Vocab size {}'.format(len(our_model.wv)))"
   ]
  },
  {
   "cell_type": "code",
   "execution_count": 39,
   "metadata": {
    "id": "yW8tTM0xiZcL"
   },
   "outputs": [],
   "source": [
    "# You can save file in txt format, then load later if you wish.\n",
    "our_model.wv.save_word2vec_format('imdb_embeddings.txt', binary=False)"
   ]
  },
  {
   "cell_type": "markdown",
   "metadata": {
    "id": "BsjzTVFjt8G1"
   },
   "source": [
    "What text-normalization and pre-processing did you do and why? __Sentence begin and end, regular expression expansion, tokenization, punctuation removing, lemmatizing and stemming__"
   ]
  },
  {
   "cell_type": "markdown",
   "metadata": {
    "id": "aOFmHpH8t8G2"
   },
   "source": [
    "Step 2: Evaluate the differences between the word embeddings\n",
    "----------------------------\n",
    "\n",
    "(make sure to include graphs, figures, and paragraphs with full sentences)"
   ]
  },
  {
   "cell_type": "code",
   "execution_count": null,
   "metadata": {
    "id": "NXjy2-OqgvIf",
    "scrolled": true
   },
   "outputs": [],
   "source": [
    "# model.wv.index_to_key\n",
    "# get 10 most common and uncommon words/vectors? plot difference between them?"
   ]
  },
  {
   "cell_type": "code",
   "execution_count": null,
   "metadata": {
    "id": "WqmlOW4biZcM",
    "outputId": "c49da923-a978-4329-9847-84fc12e5b71e"
   },
   "outputs": [
    {
     "ename": "AttributeError",
     "evalue": "'KeyedVectors' object has no attribute 'word_index'",
     "output_type": "error",
     "traceback": [
      "\u001b[0;31m---------------------------------------------------------------------------\u001b[0m",
      "\u001b[0;31mAttributeError\u001b[0m                            Traceback (most recent call last)",
      "\u001b[0;32m<ipython-input-144-4fa8d2082234>\u001b[0m in \u001b[0;36m<module>\u001b[0;34m\u001b[0m\n\u001b[0;32m----> 1\u001b[0;31m \u001b[0mmodel\u001b[0m\u001b[0;34m.\u001b[0m\u001b[0mwv\u001b[0m\u001b[0;34m.\u001b[0m\u001b[0mword_index\u001b[0m\u001b[0;34m\u001b[0m\u001b[0;34m\u001b[0m\u001b[0m\n\u001b[0m",
      "\u001b[0;31mAttributeError\u001b[0m: 'KeyedVectors' object has no attribute 'word_index'"
     ]
    }
   ],
   "source": [
    "model.wv.word_index"
   ]
  },
  {
   "cell_type": "markdown",
   "metadata": {
    "id": "CWlWydbrgv4P"
   },
   "source": [
    "##Write down your analysis:"
   ]
  },
  {
   "cell_type": "markdown",
   "metadata": {
    "id": "-tmrTVDqt8G2"
   },
   "source": [
    "Cite your sources:\n",
    "-------------"
   ]
  },
  {
   "cell_type": "markdown",
   "metadata": {
    "id": "ix2On6zat8G2"
   },
   "source": [
    "Step 3: Feedforward Neural Language Model\n",
    "--------------------------"
   ]
  },
  {
   "cell_type": "markdown",
   "metadata": {
    "id": "AZsCKQWDt8G2"
   },
   "source": [
    "# a) First, encode  your text into integers"
   ]
  },
  {
   "cell_type": "code",
   "execution_count": 41,
   "metadata": {
    "ExecuteTime": {
     "end_time": "2020-10-26T21:39:09.625031Z",
     "start_time": "2020-10-26T21:39:09.009109Z"
    },
    "id": "ec0KKYj0t8G3"
   },
   "outputs": [
    {
     "name": "stderr",
     "output_type": "stream",
     "text": [
      "2022-11-22 23:52:39.782682: I tensorflow/core/platform/cpu_feature_guard.cc:193] This TensorFlow binary is optimized with oneAPI Deep Neural Network Library (oneDNN) to use the following CPU instructions in performance-critical operations:  SSE4.1 SSE4.2\n",
      "To enable them in other operations, rebuild TensorFlow with the appropriate compiler flags.\n"
     ]
    }
   ],
   "source": [
    "# Importing utility functions from Keras\n",
    "from keras.preprocessing.text import Tokenizer\n",
    "from keras.utils import to_categorical\n",
    "from keras.models import Sequential\n",
    "from keras.layers import Dense\n",
    "from keras.layers import SimpleRNN\n",
    "from keras.layers import Embedding\n",
    "\n",
    "# The size of the ngram language model you want to train\n",
    "# change as needed for your experiments\n",
    "N_GRAM = 3 \n",
    "\n",
    "# Initializing a Tokenizer\n",
    "# It is used to vectorize a text corpus. Here, it just creates a mapping from \n",
    "# word to a unique index. (Note: Indexing starts from 0)\n",
    "# Example:\n",
    "# tokenizer = Tokenizer()\n",
    "# tokenizer.fit_on_texts(data)\n",
    "# encoded = tokenizer.texts_to_sequences(data)\n"
   ]
  },
  {
   "cell_type": "code",
   "execution_count": 52,
   "metadata": {
    "ExecuteTime": {
     "end_time": "2020-10-24T03:27:54.373208Z",
     "start_time": "2020-10-24T03:27:54.369835Z"
    },
    "id": "U1PrwlBAt8G5"
   },
   "outputs": [],
   "source": [
    "spooky_tokenizer = Tokenizer()\n",
    "imdb_tokenizer = Tokenizer()\n",
    "\n",
    "# spooky authors data\n",
    "# use out own tokenizer\n",
    "spooky_train_list = given_data_train\n",
    "spooky_tokenizer.fit_on_texts(spooky_train_list)\n",
    "spooky_train_encoded = spooky_tokenizer.texts_to_sequences(spooky_train_list)\n",
    "\n",
    "# # our data\n",
    "# imdb_train_list = list(df_imdb['review'].values)[:35000]\n",
    "# imdb_tokenizer.fit_on_texts(imdb_train_list)\n",
    "# imdb_train_encoded = tokenizer.texts_to_sequences(imdb_train_list)"
   ]
  },
  {
   "cell_type": "markdown",
   "metadata": {
    "id": "mCndArPmt8G5"
   },
   "source": [
    "### b) Next, prepare your sequences from text"
   ]
  },
  {
   "cell_type": "markdown",
   "metadata": {
    "id": "6jG42_9Xt8G6"
   },
   "source": [
    "#### Fixed ngram based sequences "
   ]
  },
  {
   "cell_type": "raw",
   "metadata": {
    "id": "HsoPVS8ct8G7"
   },
   "source": [
    "The training samples will be structured in the following format. \n",
    "Depending on which ngram model we choose, there will be (n-1) tokens \n",
    "in the input sequence (X) and we will need to predict the nth token (Y)\n",
    "\n",
    "        X,\t\t\t    y\n",
    "    this,    process               however\n",
    "    process, however               afforded\n",
    "    however, afforded\t           me"
   ]
  },
  {
   "cell_type": "code",
   "execution_count": 55,
   "metadata": {
    "ExecuteTime": {
     "end_time": "2020-10-24T05:21:28.039381Z",
     "start_time": "2020-10-24T05:21:24.941885Z"
    },
    "id": "B_4YqhKTt8G7"
   },
   "outputs": [],
   "source": [
    "def generate_ngram_training_samples(ngram_len: int, data: list) -> list:\n",
    "    '''\n",
    "    Takes the encoded data (list of lists) and \n",
    "    generates the training samples out of it.\n",
    "    Parameters:\n",
    "    up to you, we've put in what we used\n",
    "    but you can add/remove as needed\n",
    "    return: \n",
    "    list of lists in the format [[x1, x2, ... , x(n-1), y], ...]\n",
    "    '''\n",
    "    # TODO: does this make sense????\n",
    "    final_ngrams = []\n",
    "    for idx in range(len(data) - ngram_len):\n",
    "        ngram_list = list(data[idx:idx+ngram_len])\n",
    "        final_ngrams.append(ngram_list)\n",
    "    return final_ngrams\n"
   ]
  },
  {
   "cell_type": "markdown",
   "metadata": {
    "id": "BWL6Czlxt8G8"
   },
   "source": [
    "### c) Then, split the sequences into X and y and create a Data Generator"
   ]
  },
  {
   "cell_type": "code",
   "execution_count": 56,
   "metadata": {
    "ExecuteTime": {
     "end_time": "2020-10-24T05:21:31.213422Z",
     "start_time": "2020-10-24T05:21:31.061759Z"
    },
    "id": "csweN-d1t8G9"
   },
   "outputs": [],
   "source": [
    "# Note here that the sequences were in the form: \n",
    "# sequence = [x1, x2, ... , x(n-1), y]\n",
    "# We still need to separate it into [[x1, x2, ... , x(n-1)], ...], [y1, y2, ...]\n",
    "def split_ngrams(ngram_list: list) -> list:\n",
    "    x = []\n",
    "    y = []\n",
    "    for ngram in ngram_list:\n",
    "        y.append(ngram[-1])\n",
    "        x.append(ngram[:-1])\n",
    "    return x, y"
   ]
  },
  {
   "cell_type": "code",
   "execution_count": 72,
   "metadata": {
    "ExecuteTime": {
     "end_time": "2020-10-24T05:21:34.675827Z",
     "start_time": "2020-10-24T05:21:33.315288Z"
    },
    "id": "Vjr6vwP5t8G9"
   },
   "outputs": [],
   "source": [
    "import string\n",
    "\n",
    "def read_embeddings(text, embeddings, tokenizer):\n",
    "    '''Loads and parses embeddings trained in earlier.\n",
    "    Parameters and return values are up to you.\n",
    "    '''\n",
    "    \n",
    "    # you may find generating the following two dicts useful:\n",
    "    # word to embedding : {'the':[0....], ...}\n",
    "    # index to embedding : {1:[0....], ...} \n",
    "    # use your tokenizer's word_index to find the index of\n",
    "    # a given word\n",
    "    word_to_embedding = dict()\n",
    "    index_to_embedding = dict()\n",
    "    tok_w_i = tokenizer.word_index\n",
    "    for sentence in text:\n",
    "        for word in sentence:\n",
    "            # since we already pre processed data, we no longer need to transform\n",
    "            if word not in word_to_embedding.keys():\n",
    "                #print(word)\n",
    "                word_to_embedding[word] = embeddings.wv[word]\n",
    "                index_to_embedding[tok_w_i[word]] = embeddings.wv[word]\n",
    "                \n",
    "    return word_to_embedding, index_to_embedding"
   ]
  },
  {
   "cell_type": "code",
   "execution_count": 73,
   "metadata": {
    "id": "Bh4y96ZiiZcP",
    "outputId": "246adc6e-b95f-4a0a-f06b-2ff6db073cbe"
   },
   "outputs": [],
   "source": [
    "a, b = read_embeddings(spooky_train_list, model, spooky_tokenizer)"
   ]
  },
  {
   "cell_type": "code",
   "execution_count": 75,
   "metadata": {},
   "outputs": [
    {
     "data": {
      "text/plain": [
       "array([ 0.02348194,  0.05490553, -0.00265442,  0.07038224,  0.10827535,\n",
       "       -0.09777361,  0.05405985,  0.2373621 ,  0.02425046,  0.00219891,\n",
       "       -0.07679407, -0.18995433,  0.04362183, -0.03777902, -0.07255875,\n",
       "       -0.05782289, -0.0801895 ,  0.12139725, -0.10765211, -0.29708388,\n",
       "        0.08327043,  0.04365621, -0.01183267,  0.03152594, -0.0836893 ,\n",
       "       -0.01145581, -0.00815305, -0.04344771, -0.05997968, -0.01018504,\n",
       "        0.12941797, -0.01724505,  0.13043666, -0.04741822, -0.07351422,\n",
       "        0.03786735,  0.19337331,  0.06287841,  0.03567098, -0.15253997,\n",
       "       -0.07178811, -0.01642449, -0.01931473,  0.06069664,  0.14860804,\n",
       "       -0.0097814 ,  0.00895152, -0.03115348,  0.06453577,  0.08881211,\n",
       "        0.08606131, -0.15818632, -0.06499314, -0.19137977, -0.02956738,\n",
       "       -0.04876706,  0.05038584, -0.12518013, -0.06588586,  0.04635868,\n",
       "       -0.00166237, -0.07724451,  0.11163273,  0.05546798, -0.22543083,\n",
       "        0.1496334 , -0.10520876,  0.09416441, -0.19911195,  0.19988151,\n",
       "       -0.01779247,  0.06051487,  0.21513008, -0.00479507,  0.03267331,\n",
       "        0.01765301,  0.06027165, -0.16142993, -0.30577084, -0.02585614,\n",
       "       -0.06508403, -0.02932355, -0.12861659,  0.28939846, -0.08628202,\n",
       "        0.04811018,  0.0704329 ,  0.01007692, -0.03825826,  0.13443488,\n",
       "        0.14690125,  0.15586704,  0.19965652,  0.23113412,  0.34777766,\n",
       "        0.01986893, -0.01427582, -0.10496535,  0.0923351 ,  0.01569068,\n",
       "       -0.24291027,  0.2198427 ,  0.06764808, -0.08593506, -0.05832053,\n",
       "       -0.2058726 , -0.02978448,  0.08494198, -0.08419106, -0.1822042 ,\n",
       "       -0.01246659, -0.13059023, -0.04170706,  0.02282747,  0.13537557,\n",
       "        0.06669771,  0.10188784, -0.36402303,  0.0280171 , -0.19757761,\n",
       "       -0.07201757,  0.16421218,  0.11986955, -0.0644765 , -0.04744031,\n",
       "        0.10507781, -0.17009418,  0.00298655, -0.00499174,  0.04611026,\n",
       "        0.07007371,  0.03704753,  0.04883714, -0.08687403, -0.10057384,\n",
       "        0.1670749 , -0.08086075, -0.109134  , -0.0874557 , -0.06610911,\n",
       "        0.1739006 , -0.29430246,  0.06875564,  0.04875683,  0.01409398,\n",
       "       -0.0616987 , -0.09609752,  0.00329332, -0.00696686, -0.05682963,\n",
       "        0.14731632, -0.08230215,  0.01761466,  0.02072721, -0.22851562,\n",
       "        0.19061492,  0.14414777,  0.19165577, -0.07423792,  0.03890623,\n",
       "        0.10896128,  0.10659286,  0.04217216,  0.1304111 ,  0.09930444,\n",
       "        0.22489776,  0.22101401, -0.06859173,  0.00514961,  0.03096227,\n",
       "       -0.12052061, -0.05576611, -0.0145355 , -0.10701769,  0.21711707,\n",
       "       -0.0317625 , -0.17886022,  0.16663112,  0.03048791,  0.14369936,\n",
       "       -0.13111196,  0.06591774, -0.05526655,  0.15441228,  0.13862465,\n",
       "       -0.01224224,  0.09246863,  0.09207442,  0.35186362,  0.16600746,\n",
       "        0.14528699, -0.00741404, -0.10627896, -0.26220936,  0.05155286,\n",
       "        0.20915169, -0.01223679, -0.14347309, -0.02956927, -0.03434801],\n",
       "      dtype=float32)"
      ]
     },
     "execution_count": 75,
     "metadata": {},
     "output_type": "execute_result"
    }
   ],
   "source": [
    "# embedding of word process\n",
    "a['process']"
   ]
  },
  {
   "cell_type": "code",
   "execution_count": 76,
   "metadata": {
    "id": "2QhlJFL2iZcP",
    "outputId": "92199915-ac2b-41ab-b954-d77c0aa3aa9e"
   },
   "outputs": [
    {
     "data": {
      "text/plain": [
       "array([ 0.15042208,  0.0618179 ,  0.0828281 ,  0.20855531,  0.4031695 ,\n",
       "       -0.09448706,  0.0366256 ,  0.59077597,  0.1094589 ,  0.06333733,\n",
       "        0.2052773 , -0.00314236, -0.04288219,  0.01718473,  0.02472387,\n",
       "       -0.1329551 ,  0.04697161,  0.13526043, -0.05162509, -0.37635106,\n",
       "       -0.01000359, -0.05844728,  0.20229833, -0.05589949, -0.11722791,\n",
       "       -0.26393858, -0.04103449, -0.17500141, -0.08418668, -0.2092509 ,\n",
       "        0.09575804, -0.03705767,  0.2290568 , -0.05987259, -0.00166913,\n",
       "       -0.01177609, -0.12572664, -0.13694699, -0.04620064, -0.22947   ,\n",
       "       -0.02528268,  0.03157232,  0.00162438, -0.12686384,  0.03314819,\n",
       "       -0.10010096, -0.06235256, -0.10038215,  0.11948317,  0.14735518,\n",
       "        0.07228272, -0.02961588,  0.08497987, -0.03054579, -0.10082976,\n",
       "       -0.14986514, -0.0655518 , -0.08715058,  0.07088859,  0.21680567,\n",
       "       -0.2986772 , -0.13292263,  0.3267133 , -0.03025175, -0.31965357,\n",
       "        0.16980793, -0.07496505,  0.191069  , -0.5702984 ,  0.15094353,\n",
       "       -0.03553297,  0.2271492 ,  0.09321286,  0.1160243 ,  0.01507986,\n",
       "       -0.181286  ,  0.11824092, -0.14248428, -0.40536836, -0.00672337,\n",
       "       -0.0282414 , -0.03077465, -0.14541748,  0.05252392, -0.10738071,\n",
       "       -0.07705983,  0.08032247,  0.02676947, -0.05559401,  0.21788184,\n",
       "        0.05562533,  0.28127602,  0.27718166,  0.16145426,  0.35645133,\n",
       "       -0.04987214,  0.03263428, -0.2027928 ,  0.18192987,  0.15094513,\n",
       "       -0.12476817,  0.16186719,  0.18708108,  0.00963544, -0.32691658,\n",
       "       -0.06787476, -0.04477492,  0.05431117, -0.06998158, -0.255848  ,\n",
       "       -0.09598616, -0.2147308 , -0.18233468, -0.05802892,  0.16363713,\n",
       "        0.05045662,  0.2042221 , -0.23114249, -0.09964035, -0.27659962,\n",
       "       -0.14709325,  0.12347   ,  0.12609985, -0.31351954,  0.19265813,\n",
       "        0.06240592, -0.27723783,  0.2419291 ,  0.07586867,  0.05540249,\n",
       "        0.14239275,  0.15333739,  0.04078799, -0.25914294, -0.11106592,\n",
       "        0.3118475 , -0.01375266,  0.09541459, -0.20717067, -0.21787055,\n",
       "        0.26021042, -0.03443212, -0.10503742,  0.11897352,  0.1214385 ,\n",
       "       -0.01786902, -0.19781733, -0.00201606,  0.03343074, -0.0607183 ,\n",
       "       -0.05315974,  0.09062839, -0.03114567,  0.11583523, -0.05683164,\n",
       "       -0.00214797,  0.20079741,  0.22437008, -0.14951868,  0.2335899 ,\n",
       "       -0.04129035,  0.10567701,  0.1631512 ,  0.23641147,  0.17322826,\n",
       "        0.16326801,  0.21509853,  0.04481588,  0.259958  ,  0.11055079,\n",
       "        0.08957567, -0.0583126 , -0.07927588, -0.09533681,  0.1685682 ,\n",
       "       -0.08853409, -0.01100531,  0.07985134,  0.29053324, -0.17054352,\n",
       "       -0.08848602,  0.15730827,  0.07787692, -0.05335294,  0.05672653,\n",
       "        0.01460317, -0.06504809,  0.20462324,  0.31939924,  0.08927124,\n",
       "       -0.03200462,  0.06371379,  0.07478292, -0.08980983,  0.09304628,\n",
       "       -0.15786271,  0.0556759 , -0.04343865,  0.05029752,  0.17832689],\n",
       "      dtype=float32)"
      ]
     },
     "execution_count": 76,
     "metadata": {},
     "output_type": "execute_result"
    }
   ],
   "source": [
    "# embedding of token of index 4\n",
    "b[4]"
   ]
  },
  {
   "cell_type": "code",
   "execution_count": null,
   "metadata": {
    "ExecuteTime": {
     "end_time": "2020-10-24T05:22:24.016237Z",
     "start_time": "2020-10-24T05:22:24.011220Z"
    },
    "id": "H6g9g7p6t8G9"
   },
   "outputs": [],
   "source": [
    "def data_generator(X: list, y: list, num_sequences_per_batch: int) -> (list,list):\n",
    "    '''\n",
    "    Returns data generator to be used by feed_forward\n",
    "    https://wiki.python.org/moin/Generators\n",
    "    https://realpython.com/introduction-to-python-generators/\n",
    "    \n",
    "    Yields batches of embeddings and labels to go with them.\n",
    "    Use one hot vectors to encode the labels \n",
    "    (see the to_categorical function)\n",
    "    \n",
    "    '''\n",
    "    pass\n",
    "\n"
   ]
  },
  {
   "cell_type": "code",
   "execution_count": null,
   "metadata": {
    "ExecuteTime": {
     "end_time": "2020-10-24T05:22:55.470133Z",
     "start_time": "2020-10-24T05:22:55.398259Z"
    },
    "id": "vgXSWdlMt8G-"
   },
   "outputs": [],
   "source": [
    "# Examples\n",
    "# initialize data_generator\n",
    "# num_sequences_per_batch = 128 # this is the batch size\n",
    "# steps_per_epoch = len(sequences)//num_sequences_per_batch  # Number of batches per epoch\n",
    "# train_generator = data_generator(X, y, num_sequences_per_batch)\n",
    "\n",
    "# sample=next(train_generator) # this is how you get data out of generators\n",
    "# sample[0].shape # (batch_size, (n-1)*EMBEDDING_SIZE)  (128, 200)\n",
    "# sample[1].shape   # (batch_size, |V|) to_categorical"
   ]
  },
  {
   "cell_type": "markdown",
   "metadata": {
    "id": "yzfweqz1t8G-"
   },
   "source": [
    "### d) Train your models"
   ]
  },
  {
   "cell_type": "code",
   "execution_count": null,
   "metadata": {
    "ExecuteTime": {
     "end_time": "2020-10-24T04:56:19.207252Z",
     "start_time": "2020-10-24T04:56:19.204894Z"
    },
    "id": "4fZlHukVt8G_"
   },
   "outputs": [],
   "source": []
  },
  {
   "cell_type": "code",
   "execution_count": null,
   "metadata": {
    "ExecuteTime": {
     "end_time": "2020-10-24T03:56:50.919869Z",
     "start_time": "2020-10-24T03:56:50.779792Z"
    },
    "id": "KmgNnQj5t8G_"
   },
   "outputs": [],
   "source": [
    "# code to train a feedforward neural language model \n",
    "# on a set of given word embeddings\n",
    "# make sure not to just copy + paste to train your two models\n",
    "\n",
    "# Define the model architecture using Keras Sequential API\n",
    "\n"
   ]
  },
  {
   "cell_type": "code",
   "execution_count": null,
   "metadata": {
    "ExecuteTime": {
     "end_time": "2020-10-24T04:01:50.757170Z",
     "start_time": "2020-10-24T03:56:53.620836Z"
    },
    "id": "-dWf2qO3t8G_",
    "outputId": "353a73b8-d147-4b8e-f23b-1581cd674266"
   },
   "outputs": [
    {
     "ename": "AttributeError",
     "evalue": "'Word2Vec' object has no attribute 'fit'",
     "output_type": "error",
     "traceback": [
      "\u001b[0;31m---------------------------------------------------------------------------\u001b[0m",
      "\u001b[0;31mAttributeError\u001b[0m                            Traceback (most recent call last)",
      "\u001b[0;32m<ipython-input-18-931f0d50fb99>\u001b[0m in \u001b[0;36m<module>\u001b[0;34m\u001b[0m\n\u001b[1;32m      1\u001b[0m \u001b[0;31m# Start training the model\u001b[0m\u001b[0;34m\u001b[0m\u001b[0;34m\u001b[0m\u001b[0;34m\u001b[0m\u001b[0m\n\u001b[0;32m----> 2\u001b[0;31m model.fit(x=train_generator, \n\u001b[0m\u001b[1;32m      3\u001b[0m           \u001b[0msteps_per_epoch\u001b[0m\u001b[0;34m=\u001b[0m\u001b[0msteps_per_epoch\u001b[0m\u001b[0;34m,\u001b[0m\u001b[0;34m\u001b[0m\u001b[0;34m\u001b[0m\u001b[0m\n\u001b[1;32m      4\u001b[0m           epochs=1)\n",
      "\u001b[0;31mAttributeError\u001b[0m: 'Word2Vec' object has no attribute 'fit'"
     ]
    }
   ],
   "source": [
    "# Start training the model\n",
    "model.fit(x=train_generator, \n",
    "          steps_per_epoch=steps_per_epoch,\n",
    "          epochs=1)"
   ]
  },
  {
   "cell_type": "code",
   "execution_count": null,
   "metadata": {
    "id": "jVjtknkVt8HA"
   },
   "outputs": [],
   "source": []
  },
  {
   "cell_type": "code",
   "execution_count": null,
   "metadata": {
    "id": "eCZ2S5mpt8HA"
   },
   "outputs": [],
   "source": []
  },
  {
   "cell_type": "markdown",
   "metadata": {
    "id": "3QwRhKYwt8HA"
   },
   "source": [
    "### e) Generate Sentences"
   ]
  },
  {
   "cell_type": "code",
   "execution_count": null,
   "metadata": {
    "ExecuteTime": {
     "end_time": "2020-10-24T04:13:54.425934Z",
     "start_time": "2020-10-24T04:13:54.418616Z"
    },
    "id": "ewR5ueOJt8HB"
   },
   "outputs": [],
   "source": [
    "# generate a sequence from the model\n",
    "def generate_seq(model: Sequential, \n",
    "                 tokenizer: Tokenizer, \n",
    "                 seed: list, \n",
    "                 n_words: int):\n",
    "    '''\n",
    "    Parameters:\n",
    "        model: your neural network\n",
    "        tokenizer: the keras preprocessing tokenizer\n",
    "        seed: [w1, w2, w(n-1)]\n",
    "        n_words: generate a sentence of length n_words\n",
    "    Returns: string sentence\n",
    "    '''\n",
    "    pass"
   ]
  },
  {
   "cell_type": "code",
   "execution_count": null,
   "metadata": {
    "ExecuteTime": {
     "end_time": "2020-10-24T04:14:13.123529Z",
     "start_time": "2020-10-24T04:14:13.000264Z"
    },
    "id": "XZ9fShSyt8HB"
   },
   "outputs": [],
   "source": []
  },
  {
   "cell_type": "markdown",
   "metadata": {
    "id": "w68JVS2jt8HB"
   },
   "source": [
    "### f) Compare your generated sentences"
   ]
  },
  {
   "cell_type": "code",
   "execution_count": null,
   "metadata": {
    "id": "xE4dcQdut8HC"
   },
   "outputs": [],
   "source": []
  },
  {
   "cell_type": "markdown",
   "metadata": {
    "id": "yet5p8N1t8HC"
   },
   "source": [
    "Sources Cited\n",
    "----------------------------\n"
   ]
  },
  {
   "cell_type": "code",
   "execution_count": null,
   "metadata": {
    "id": "2sPu_1h2t8HC"
   },
   "outputs": [],
   "source": []
  }
 ],
 "metadata": {
  "colab": {
   "provenance": [],
   "toc_visible": true
  },
  "kernelspec": {
   "display_name": "Python 3 (ipykernel)",
   "language": "python",
   "name": "python3"
  },
  "language_info": {
   "codemirror_mode": {
    "name": "ipython",
    "version": 3
   },
   "file_extension": ".py",
   "mimetype": "text/x-python",
   "name": "python",
   "nbconvert_exporter": "python",
   "pygments_lexer": "ipython3",
   "version": "3.9.7"
  }
 },
 "nbformat": 4,
 "nbformat_minor": 1
}
